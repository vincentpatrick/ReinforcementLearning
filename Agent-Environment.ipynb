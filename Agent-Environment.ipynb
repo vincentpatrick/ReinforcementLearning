{
 "cells": [
  {
   "cell_type": "code",
   "execution_count": 1,
   "metadata": {},
   "outputs": [],
   "source": [
    "#import packages\n",
    "from gym import Env\n",
    "from gym.spaces import Discrete, Box\n",
    "import numpy as np\n",
    "import random"
   ]
  },
  {
   "cell_type": "code",
   "execution_count": 25,
   "metadata": {},
   "outputs": [],
   "source": [
    "#inherit openai gym environment class by passing env into the class\n",
    "\n",
    "class solarEnv(Env):\n",
    "    def __init__(self):\n",
    "        #initialize the action, space \n",
    "        self.action_space = Discrete(3) #the actions: STORE, CONSUME SELL\n",
    "        self.observation_space = Box(low=np.array([0]), high = np.array([100])) #the energy level, lowest is 0 and highest is 100\n",
    "        #starting energy level\n",
    "        self.state = 0+random.randint(-10,10)\n",
    "        #set operation duration\n",
    "        self.operation_length = 60\n",
    "    def step(self, action):\n",
    "        #what do we do everytime we step\n",
    "        #actions:\n",
    "        #0 -1 = sell\n",
    "        #1-1 = consume\n",
    "        #2-1 -1 store\n",
    "        self.state += action -1\n",
    "        #reduce the operation length time by 1 second\n",
    "        self.operation_length -=1\n",
    "        \n",
    "        #calculate the reward\n",
    "        #if the energy level goes out of the optimal range, the agent is punished\n",
    "        if self.state>=4 and self.state<=7:\n",
    "            reward =1\n",
    "        else:\n",
    "            reward = -1\n",
    "        #check if the operation is done\n",
    "        if self.operation_length <=0:\n",
    "            done = True\n",
    "        else:\n",
    "            done = False\n",
    "        #set an information placeholder\n",
    "        info ={}\n",
    "        \n",
    "        #return step information\n",
    "        return self.state, reward, done, info\n",
    "        \n",
    "    def reset(self):#reset after every run\n",
    "        #reset operation level\n",
    "        self.state= 0 + random.randint(-10,10)\n",
    "        self.operation_length=60\n",
    "        "
   ]
  },
  {
   "cell_type": "code",
   "execution_count": 26,
   "metadata": {},
   "outputs": [],
   "source": [
    "#set the environment to the showerenvironment\n",
    "env = solarEnv()"
   ]
  },
  {
   "cell_type": "code",
   "execution_count": 27,
   "metadata": {},
   "outputs": [
    {
     "data": {
      "text/plain": [
       "array([98.380684], dtype=float32)"
      ]
     },
     "execution_count": 27,
     "metadata": {},
     "output_type": "execute_result"
    }
   ],
   "source": [
    "env.observation_space.sample()"
   ]
  },
  {
   "cell_type": "code",
   "execution_count": 29,
   "metadata": {},
   "outputs": [
    {
     "name": "stdout",
     "output_type": "stream",
     "text": [
      "Episode:1 Score:-52\n",
      "Episode:2 Score:-50\n",
      "Episode:3 Score:-46\n",
      "Episode:4 Score:-60\n",
      "Episode:5 Score:-32\n",
      "Episode:6 Score:-60\n",
      "Episode:7 Score:-60\n",
      "Episode:8 Score:32\n",
      "Episode:9 Score:-60\n",
      "Episode:10 Score:-60\n"
     ]
    }
   ],
   "source": [
    "episodes = 10\n",
    "for episode in range(1, episodes+1):\n",
    "    state = env.reset()\n",
    "    done = False\n",
    "    score = 0 \n",
    "    \n",
    "    while not done:\n",
    "        #env.render()\n",
    "        action = env.action_space.sample()\n",
    "        n_state, reward, done, info = env.step(action)\n",
    "        score+=reward\n",
    "    print('Episode:{} Score:{}'.format(episode, score))"
   ]
  },
  {
   "cell_type": "markdown",
   "metadata": {},
   "source": [
    "# create deep learning model with keras"
   ]
  },
  {
   "cell_type": "code",
   "execution_count": 6,
   "metadata": {},
   "outputs": [],
   "source": [
    "import numpy as np\n",
    "from tensorflow.keras.models import Sequential\n",
    "from tensorflow.keras.layers import Dense, Flatten\n",
    "from tensorflow.keras.optimizers import Adam"
   ]
  },
  {
   "cell_type": "code",
   "execution_count": 7,
   "metadata": {},
   "outputs": [],
   "source": [
    "states = env.observation_space.shape #the shape of our state\n",
    "actions = env.action_space.n # the number of action we got"
   ]
  },
  {
   "cell_type": "code",
   "execution_count": 8,
   "metadata": {},
   "outputs": [
    {
     "data": {
      "text/plain": [
       "3"
      ]
     },
     "execution_count": 8,
     "metadata": {},
     "output_type": "execute_result"
    }
   ],
   "source": [
    "actions"
   ]
  },
  {
   "cell_type": "code",
   "execution_count": 9,
   "metadata": {},
   "outputs": [],
   "source": [
    "def build_model(states, actions): #?\n",
    "    model = Sequential()    \n",
    "    model.add(Dense(24, activation='relu', input_shape=states))\n",
    "    model.add(Dense(24, activation='relu'))\n",
    "    model.add(Dense(actions, activation='linear'))\n",
    "    return model"
   ]
  },
  {
   "cell_type": "code",
   "execution_count": 10,
   "metadata": {},
   "outputs": [],
   "source": [
    "model = build_model(states, actions)"
   ]
  },
  {
   "cell_type": "code",
   "execution_count": 11,
   "metadata": {},
   "outputs": [
    {
     "name": "stdout",
     "output_type": "stream",
     "text": [
      "Model: \"sequential\"\n",
      "_________________________________________________________________\n",
      "Layer (type)                 Output Shape              Param #   \n",
      "=================================================================\n",
      "dense (Dense)                (None, 24)                48        \n",
      "_________________________________________________________________\n",
      "dense_1 (Dense)              (None, 24)                600       \n",
      "_________________________________________________________________\n",
      "dense_2 (Dense)              (None, 3)                 75        \n",
      "=================================================================\n",
      "Total params: 723\n",
      "Trainable params: 723\n",
      "Non-trainable params: 0\n",
      "_________________________________________________________________\n"
     ]
    }
   ],
   "source": [
    "model.summary()"
   ]
  },
  {
   "cell_type": "markdown",
   "metadata": {},
   "source": [
    "# Build agent with keras-rl"
   ]
  },
  {
   "cell_type": "code",
   "execution_count": null,
   "metadata": {},
   "outputs": [],
   "source": []
  }
 ],
 "metadata": {
  "kernelspec": {
   "display_name": "Python 3",
   "language": "python",
   "name": "python3"
  },
  "language_info": {
   "codemirror_mode": {
    "name": "ipython",
    "version": 3
   },
   "file_extension": ".py",
   "mimetype": "text/x-python",
   "name": "python",
   "nbconvert_exporter": "python",
   "pygments_lexer": "ipython3",
   "version": "3.8.3"
  }
 },
 "nbformat": 4,
 "nbformat_minor": 4
}
